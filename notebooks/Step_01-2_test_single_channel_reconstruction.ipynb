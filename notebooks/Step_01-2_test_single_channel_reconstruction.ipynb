{
 "cells": [
  {
   "cell_type": "markdown",
   "metadata": {},
   "source": [
    "This notebook demonstrates testing of the previously trained single-channel (from Step 01-1) for an acceleration factor of 10x. A subset of 18 subject scans with a correpsonding fully-sampled previous scan are reserved for testing.  "
   ]
  },
  {
   "cell_type": "code",
   "execution_count": 1,
   "metadata": {},
   "outputs": [],
   "source": [
    "import subprocess\n",
    "\n",
    "def install(name):\n",
    "    subprocess.call(['pip', 'install', name])\n",
    "\n",
    "install('nibabel')\n",
    "install('scikit-learn')"
   ]
  },
  {
   "cell_type": "code",
   "execution_count": 2,
   "metadata": {},
   "outputs": [],
   "source": [
    "import numpy as np\n",
    "import os\n",
    "import glob\n",
    "import sys\n",
    "import nibabel as nib\n",
    "import logging\n",
    "import matplotlib.pyplot as plt\n",
    "\n",
    "# Importing our model\n",
    "MY_UTILS_PATH = \"../src/\"\n",
    "if not MY_UTILS_PATH in sys.path:\n",
    "    sys.path.append(MY_UTILS_PATH)\n",
    "import cs_models_sc as fsnet\n",
    "import tensorflow as tf\n",
    "# Importing callbacks and data augmentation utils\n",
    "\n",
    "from tensorflow.keras.callbacks import ModelCheckpoint, EarlyStopping\n",
    "from tensorflow.keras.preprocessing.image import ImageDataGenerator\n",
    "from tensorflow.keras.optimizers import  Adam\n",
    "\n",
    "physical_devices = tf.config.experimental.list_physical_devices('GPU')\n",
    "tf.config.experimental.set_memory_growth(physical_devices[0], True)"
   ]
  },
  {
   "cell_type": "code",
   "execution_count": 3,
   "metadata": {},
   "outputs": [],
   "source": [
    "## PARAMETERS\n",
    "H,W = 512,512 # Training image dimensions\n",
    "channels = 2 # complex data 0-> real; 1-> imaginary\n",
    "norm = np.sqrt(H*W)"
   ]
  },
  {
   "cell_type": "code",
   "execution_count": 9,
   "metadata": {},
   "outputs": [
    {
     "name": "stdout",
     "output_type": "stream",
     "text": [
      "['TUM04-20171108.nii' 'TUM04-20180103.nii' 'TUM04-20190328.nii'\n",
      " 'TUM04-20190523.nii' 'TUM04-20181009.nii' 'TUM04-20190328.nii'\n",
      " 'TUM20-20180205.nii' 'TUM20-20180402.nii' 'TUM10-20171018.nii'\n",
      " 'TUM10-20180122.nii' 'TUM10-20180122.nii' 'TUM10-20180307.nii'\n",
      " 'TUM15-20170801.nii' 'TUM15-20170816.nii']\n"
     ]
    }
   ],
   "source": [
    "#location of brain-cancer data-set; change this path to destination of downloaded data\n",
    "data_path = '../../../data/brain-cancer/'\n",
    "#define pathes to test files\n",
    "test_files = np.loadtxt('../data/test_long.txt', dtype=str)[:,1:].flatten()\n",
    "print(test_files)\n",
    "rec_files_test = np.unique([data_path + file for file in test_files], return_counts=False, axis=0)"
   ]
  },
  {
   "cell_type": "code",
   "execution_count": 10,
   "metadata": {},
   "outputs": [
    {
     "name": "stdout",
     "output_type": "stream",
     "text": [
      "['../../../data/brain-cancer/TUM04-20171108.nii'\n",
      " '../../../data/brain-cancer/TUM04-20180103.nii'\n",
      " '../../../data/brain-cancer/TUM04-20181009.nii'\n",
      " '../../../data/brain-cancer/TUM04-20190328.nii'\n",
      " '../../../data/brain-cancer/TUM04-20190523.nii'\n",
      " '../../../data/brain-cancer/TUM10-20171018.nii'\n",
      " '../../../data/brain-cancer/TUM10-20180122.nii'\n",
      " '../../../data/brain-cancer/TUM10-20180307.nii'\n",
      " '../../../data/brain-cancer/TUM15-20170801.nii'\n",
      " '../../../data/brain-cancer/TUM15-20170816.nii'\n",
      " '../../../data/brain-cancer/TUM20-20180205.nii'\n",
      " '../../../data/brain-cancer/TUM20-20180402.nii']\n"
     ]
    }
   ],
   "source": [
    "print(rec_files_test)"
   ]
  },
  {
   "cell_type": "code",
   "execution_count": 11,
   "metadata": {},
   "outputs": [
    {
     "name": "stdout",
     "output_type": "stream",
     "text": [
      "Undersampling: 0.89959716796875\n"
     ]
    }
   ],
   "source": [
    "# Loading sampling patterns. Notice that here we are using uncentred k-space\n",
    "var_sampling_mask = np.fft.fftshift(~np.load(\"../data/sampling_masks/R10_512x512_poisson_center_true_radius_40_r_2.66.npy\")                                     ,axes = (1,2))\n",
    "var_sampling_mask = np.concatenate((var_sampling_mask[:,:,:,np.newaxis],var_sampling_mask[:,:,:,np.newaxis]),                                          axis = -1)[0]\n",
    "\n",
    "print(\"Undersampling:\", 1.0*var_sampling_mask.sum()/var_sampling_mask.size)"
   ]
  },
  {
   "cell_type": "code",
   "execution_count": 12,
   "metadata": {},
   "outputs": [],
   "source": [
    "# Training our model\n",
    "model_name = \"../models/flat_unrolled_cascade_iki.hdf5\"\n",
    "model = fsnet.deep_cascade_flat_unrolled(\"iki\", H, W)\n",
    "opt = Adam(learning_rate = 1e-3,decay = 1e-4)\n",
    "model.compile(loss = 'mse',optimizer=opt)\n",
    "model.load_weights(model_name)"
   ]
  },
  {
   "cell_type": "code",
   "execution_count": 15,
   "metadata": {},
   "outputs": [],
   "source": [
    "for ii in range(len(rec_files_test)):\n",
    "    nib_file = nib.load(rec_files_test[ii])\n",
    "    rec_test = np.swapaxes(nib_file.get_fdata(),0,2)\n",
    "    rec_test = rec_test / np.abs(rec_test).max()\n",
    "\n",
    "    aux = rec_test.shape[-1]\n",
    "    kspace_test = np.zeros((rec_test.shape[0],rec_test.shape[1],rec_test.shape[2],2))\n",
    "    aux = np.fft.fft2(rec_test)\n",
    "    kspace_test[:,:,:,0] = aux.real\n",
    "    kspace_test[:,:,:,1] = aux.imag\n",
    "    var_sampling_mask_test = np.tile(var_sampling_mask,(kspace_test.shape[0],1,1,1))\n",
    "    #print(var_sampling_mask_test.shape)\n",
    "    kspace_test[:,var_sampling_mask] = 0\n",
    "\n",
    "    pred = model.predict([kspace_test,var_sampling_mask_test])\n",
    "    rec_pred = np.abs(pred[:,:,:,0]+1j*pred[:,:,:,1])\n",
    "    rec_pred = np.swapaxes(rec_pred, 0,2)\n",
    "    pred_nifti = nib.Nifti1Image(rec_pred, nib_file.affine)\n",
    "\n",
    "    save_path = '../data/predicted/10x-iki'\n",
    "    name = rec_files_test[ii].split(\"/\")[-1][:-4]\n",
    "    os.makedirs(save_path, exist_ok=True)\n",
    "    nib.save(pred_nifti, save_path + '/' + name +'_predicted.nii')"
   ]
  },
  {
   "cell_type": "code",
   "execution_count": 10,
   "metadata": {},
   "outputs": [],
   "source": [
    "aux = 0\n",
    "for ii in range(len(rec_files_test)):\n",
    "    img = nib.load(rec_files_test[ii])\n",
    "    fdata = img.get_fdata()\n",
    "    aux = aux + fdata.shape[-1] -40"
   ]
  },
  {
   "cell_type": "code",
   "execution_count": 11,
   "metadata": {},
   "outputs": [
    {
     "data": {
      "text/plain": [
       "2157"
      ]
     },
     "execution_count": 11,
     "metadata": {},
     "output_type": "execute_result"
    }
   ],
   "source": [
    "aux"
   ]
  },
  {
   "cell_type": "code",
   "execution_count": null,
   "metadata": {},
   "outputs": [],
   "source": []
  }
 ],
 "metadata": {
  "kernelspec": {
   "display_name": "Python 3",
   "language": "python",
   "name": "python3"
  },
  "language_info": {
   "codemirror_mode": {
    "name": "ipython",
    "version": 3
   },
   "file_extension": ".py",
   "mimetype": "text/x-python",
   "name": "python",
   "nbconvert_exporter": "python",
   "pygments_lexer": "ipython3",
   "version": "3.8.10"
  },
  "toc": {
   "base_numbering": 1,
   "nav_menu": {},
   "number_sections": true,
   "sideBar": true,
   "skip_h1_title": false,
   "title_cell": "Table of Contents",
   "title_sidebar": "Contents",
   "toc_cell": false,
   "toc_position": {},
   "toc_section_display": true,
   "toc_window_display": false
  },
  "varInspector": {
   "cols": {
    "lenName": 16,
    "lenType": 16,
    "lenVar": 40
   },
   "kernels_config": {
    "python": {
     "delete_cmd_postfix": "",
     "delete_cmd_prefix": "del ",
     "library": "var_list.py",
     "varRefreshCmd": "print(var_dic_list())"
    },
    "r": {
     "delete_cmd_postfix": ") ",
     "delete_cmd_prefix": "rm(",
     "library": "var_list.r",
     "varRefreshCmd": "cat(var_dic_list()) "
    }
   },
   "types_to_exclude": [
    "module",
    "function",
    "builtin_function_or_method",
    "instance",
    "_Feature"
   ],
   "window_display": false
  }
 },
 "nbformat": 4,
 "nbformat_minor": 2
}
