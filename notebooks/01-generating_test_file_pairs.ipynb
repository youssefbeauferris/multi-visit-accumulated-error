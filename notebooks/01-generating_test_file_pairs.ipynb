{
 "cells": [
  {
   "cell_type": "code",
   "execution_count": 1,
   "id": "b865dd25",
   "metadata": {},
   "outputs": [],
   "source": [
    "import glob\n",
    "import numpy as np\n",
    "\n"
   ]
  },
  {
   "cell_type": "code",
   "execution_count": 8,
   "id": "69943990",
   "metadata": {},
   "outputs": [],
   "source": [
    "\n",
    "file_paths = glob.glob('../../../data/brain-cancer/*.nii')\n",
    "file_ids = np.sort([ID.split('/')[-1] for ID in file_paths])"
   ]
  },
  {
   "cell_type": "code",
   "execution_count": 10,
   "id": "5effbdd2",
   "metadata": {},
   "outputs": [],
   "source": [
    "indexes = np.arange(0,len(file_ids))"
   ]
  },
  {
   "cell_type": "code",
   "execution_count": 103,
   "id": "c8411058",
   "metadata": {},
   "outputs": [],
   "source": [
    "subject_ids = np.array([ID.split('-')[0] for ID in file_ids])\n",
    "unique_ids = np.unique(subject_ids) \n",
    "\n",
    "count_list = []\n",
    "boolean_ids = np.zeros(len(subject_ids),dtype=bool)\n",
    "for ii, ids in enumerate(subject_ids):    \n",
    "    count = 0\n",
    "    for jj, idx in enumerate(subject_ids):\n",
    "        if ((idx == ids)):\n",
    "            count += 1\n",
    "    count_list.append(count)\n",
    "        "
   ]
  },
  {
   "cell_type": "code",
   "execution_count": 125,
   "id": "53541749",
   "metadata": {
    "scrolled": false
   },
   "outputs": [
    {
     "name": "stdout",
     "output_type": "stream",
     "text": [
      "54\n"
     ]
    },
    {
     "data": {
      "text/plain": [
       "13"
      ]
     },
     "execution_count": 125,
     "metadata": {},
     "output_type": "execute_result"
    }
   ],
   "source": [
    "trips = np.array(count_list) > 2\n",
    "print(len(subject_ids[trips]))\n",
    "len(np.unique(subject_ids[trips]))"
   ]
  },
  {
   "cell_type": "markdown",
   "id": "2db3d9a7",
   "metadata": {},
   "source": [
    "Patient IDs that are in the train and validation set which must be excluded from the test set. "
   ]
  },
  {
   "cell_type": "code",
   "execution_count": 113,
   "id": "2971cb68",
   "metadata": {
    "scrolled": false
   },
   "outputs": [
    {
     "data": {
      "text/plain": [
       "['TUM20',\n",
       " 'TUM25',\n",
       " 'TUM24',\n",
       " 'TUM21',\n",
       " 'TUM37',\n",
       " 'TUM36',\n",
       " 'TUM29',\n",
       " 'TUM28',\n",
       " 'TUM27']"
      ]
     },
     "execution_count": 113,
     "metadata": {},
     "output_type": "execute_result"
    }
   ],
   "source": [
    "['TUM20', 'TUM25', 'TUM24', 'TUM21', 'TUM37', 'TUM36', 'TUM29', 'TUM28', 'TUM27']"
   ]
  },
  {
   "cell_type": "code",
   "execution_count": 136,
   "id": "d7af26f4",
   "metadata": {},
   "outputs": [
    {
     "name": "stdout",
     "output_type": "stream",
     "text": [
      "18\n"
     ]
    }
   ],
   "source": [
    "trips = np.array(count_list) == 1\n",
    "print(len(subject_ids[trips]))\n",
    "all_initial = np.unique(subject_ids[trips])\n",
    "\n",
    "initial_indexes = np.arange(0,len(all_initial))\n",
    "np.random.shuffle(initial_indexes)"
   ]
  },
  {
   "cell_type": "code",
   "execution_count": 143,
   "id": "d75b3763",
   "metadata": {},
   "outputs": [],
   "source": [
    "train_initial = file_ids[initial_indexes[:10]]\n",
    "val_initial = file_ids[initial_indexes[10:]]\n"
   ]
  },
  {
   "cell_type": "code",
   "execution_count": 144,
   "id": "bb44ccaf",
   "metadata": {
    "scrolled": true
   },
   "outputs": [
    {
     "data": {
      "text/plain": [
       "array(['TUM08-20170329.nii', 'TUM03-20170123.nii', 'TUM06-20170330.nii',\n",
       "       'TUM10-20180307.nii', 'TUM04-20181009.nii', 'TUM05-20170417.nii',\n",
       "       'TUM04-20190523.nii', 'TUM04-20190328.nii', 'TUM10-20170316.nii',\n",
       "       'TUM04-20171108.nii'], dtype='<U18')"
      ]
     },
     "execution_count": 144,
     "metadata": {},
     "output_type": "execute_result"
    }
   ],
   "source": [
    "train_initial"
   ]
  },
  {
   "cell_type": "code",
   "execution_count": 146,
   "id": "58ce83fe",
   "metadata": {
    "scrolled": false
   },
   "outputs": [
    {
     "data": {
      "text/plain": [
       "array(['TUM04-20180103.nii', 'TUM10-20180122.nii', 'TUM09-20170418.nii',\n",
       "       'TUM04-20180227.nii', 'TUM04-20170309.nii', 'TUM04-20180618.nii',\n",
       "       'TUM10-20171018.nii', 'TUM13-20170607.nii'], dtype='<U18')"
      ]
     },
     "execution_count": 146,
     "metadata": {},
     "output_type": "execute_result"
    }
   ],
   "source": [
    "val_initial"
   ]
  },
  {
   "cell_type": "markdown",
   "id": "d5e5e83d",
   "metadata": {},
   "source": [
    "Divide the longitudinal train/val/test split by the subject_id"
   ]
  },
  {
   "cell_type": "code",
   "execution_count": 160,
   "id": "d5fc7bb1",
   "metadata": {},
   "outputs": [
    {
     "name": "stdout",
     "output_type": "stream",
     "text": [
      "number of scan volumes is, 54 ,corresponding to 13 patients\n"
     ]
    }
   ],
   "source": [
    "trips = np.array(count_list) > 2\n",
    "unique_ids_long = np.unique(subject_ids[trips])\n",
    "print('number of scan volumes is,', len(subject_ids[trips]), ',corresponding to', len(unique_ids_long), 'patients')"
   ]
  },
  {
   "cell_type": "code",
   "execution_count": 161,
   "id": "2201ab62",
   "metadata": {},
   "outputs": [
    {
     "data": {
      "text/plain": [
       "array(['TUM04-20170309.nii', 'TUM04-20171108.nii', 'TUM04-20180103.nii',\n",
       "       'TUM04-20180227.nii', 'TUM04-20180618.nii', 'TUM04-20181009.nii',\n",
       "       'TUM04-20190328.nii', 'TUM04-20190523.nii', 'TUM10-20170316.nii',\n",
       "       'TUM10-20171018.nii', 'TUM10-20180122.nii', 'TUM10-20180307.nii',\n",
       "       'TUM15-20170531.nii', 'TUM15-20170801.nii', 'TUM15-20170816.nii',\n",
       "       'TUM20-20170928.nii', 'TUM20-20180205.nii', 'TUM20-20180402.nii',\n",
       "       'TUM21-20171127.nii', 'TUM21-20180723.nii', 'TUM21-20190304.nii',\n",
       "       'TUM24-20180405.nii', 'TUM24-20181206.nii', 'TUM24-20190417.nii',\n",
       "       'TUM24-20190920.nii', 'TUM25-20171218.nii', 'TUM25-20180809.nii',\n",
       "       'TUM25-20181009.nii', 'TUM25-20190108.nii', 'TUM25-20190305.nii',\n",
       "       'TUM25-20190910.nii', 'TUM27-20180115.nii', 'TUM27-20180312.nii',\n",
       "       'TUM27-20180522.nii', 'TUM27-20180716.nii', 'TUM27-20190104.nii',\n",
       "       'TUM28-20180426.nii', 'TUM28-20180620.nii', 'TUM28-20180821.nii',\n",
       "       'TUM28-20181120.nii', 'TUM29-20180125.nii', 'TUM29-20180327.nii',\n",
       "       'TUM29-20180530.nii', 'TUM29-20180716.nii', 'TUM36-20181030.nii',\n",
       "       'TUM36-20190527.nii', 'TUM36-20190820.nii', 'TUM37-20190108.nii',\n",
       "       'TUM37-20190509.nii', 'TUM37-20190730.nii', 'TUM37-20191105.nii',\n",
       "       'TUM39-20190225.nii', 'TUM39-20190402.nii', 'TUM39-20190704.nii'],\n",
       "      dtype='<U18')"
      ]
     },
     "execution_count": 161,
     "metadata": {},
     "output_type": "execute_result"
    }
   ],
   "source": [
    "file_ids[trips]"
   ]
  },
  {
   "cell_type": "code",
   "execution_count": null,
   "id": "8a3a407d",
   "metadata": {},
   "outputs": [],
   "source": []
  }
 ],
 "metadata": {
  "kernelspec": {
   "display_name": "Python 3",
   "language": "python",
   "name": "python3"
  },
  "language_info": {
   "codemirror_mode": {
    "name": "ipython",
    "version": 3
   },
   "file_extension": ".py",
   "mimetype": "text/x-python",
   "name": "python",
   "nbconvert_exporter": "python",
   "pygments_lexer": "ipython3",
   "version": "3.8.10"
  },
  "toc": {
   "base_numbering": 1,
   "nav_menu": {},
   "number_sections": true,
   "sideBar": true,
   "skip_h1_title": false,
   "title_cell": "Table of Contents",
   "title_sidebar": "Contents",
   "toc_cell": false,
   "toc_position": {},
   "toc_section_display": true,
   "toc_window_display": false
  },
  "varInspector": {
   "cols": {
    "lenName": 16,
    "lenType": 16,
    "lenVar": 40
   },
   "kernels_config": {
    "python": {
     "delete_cmd_postfix": "",
     "delete_cmd_prefix": "del ",
     "library": "var_list.py",
     "varRefreshCmd": "print(var_dic_list())"
    },
    "r": {
     "delete_cmd_postfix": ") ",
     "delete_cmd_prefix": "rm(",
     "library": "var_list.r",
     "varRefreshCmd": "cat(var_dic_list()) "
    }
   },
   "types_to_exclude": [
    "module",
    "function",
    "builtin_function_or_method",
    "instance",
    "_Feature"
   ],
   "window_display": false
  }
 },
 "nbformat": 4,
 "nbformat_minor": 5
}
