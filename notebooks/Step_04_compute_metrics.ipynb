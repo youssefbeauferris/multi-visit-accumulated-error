{
 "cells": [
  {
   "cell_type": "markdown",
   "id": "e0421ac1",
   "metadata": {},
   "source": [
    "The following notebook computes the quantitative assessment metrics of the single and multi-visit reconstruction produced in Steps 00-03. The metrics are computed on a third independent test set which does not share any scans from subjects within the train and validation sets. The test set consists of 7 longitudinal pairs of scans. The SSIM and pSNR of the single-visit reconstructions are compared to the multi-visit reconstructions to measure the improvements when incorporating previous subject-specific information. The first and last 20 slices are removed before computing metrics to eliminate slices with little to no anatomical structures. "
   ]
  },
  {
   "cell_type": "code",
   "execution_count": 123,
   "id": "435c3426",
   "metadata": {},
   "outputs": [],
   "source": [
    "import glob\n",
    "import nibabel\n",
    "import sys\n",
    "import nibabel as nib\n",
    "import numpy as np\n",
    "import tqdm\n",
    "import matplotlib.pyplot as plt\n",
    "MY_UTILS_PATH = \"../src/\"\n",
    "if not MY_UTILS_PATH in sys.path:\n",
    "    sys.path.append(MY_UTILS_PATH)\n",
    "import metrics"
   ]
  },
  {
   "cell_type": "code",
   "execution_count": 124,
   "id": "e0c5bea9",
   "metadata": {
    "scrolled": true
   },
   "outputs": [
    {
     "name": "stdout",
     "output_type": "stream",
     "text": [
      "[['TUM04-20171108.nii' 'TUM04-20180103.nii']\n",
      " ['TUM04-20190328.nii' 'TUM04-20190523.nii']\n",
      " ['TUM04-20181009.nii' 'TUM04-20190328.nii']\n",
      " ['TUM20-20180205.nii' 'TUM20-20180402.nii']\n",
      " ['TUM10-20171018.nii' 'TUM10-20180122.nii']\n",
      " ['TUM10-20180122.nii' 'TUM10-20180307.nii']\n",
      " ['TUM15-20170801.nii' 'TUM15-20170816.nii']]\n"
     ]
    }
   ],
   "source": [
    "test_files = np.loadtxt('../data/test_long.txt',dtype=str)[:,1:]\n",
    "print(test_files)"
   ]
  },
  {
   "cell_type": "code",
   "execution_count": 125,
   "id": "c79ab7d1",
   "metadata": {},
   "outputs": [],
   "source": [
    "#file pathes\n",
    "initial_path = '../data/predicted/10x-varnet/nib/'\n",
    "previous_path = '../data/reference_reg_10x-varnet/'\n",
    "enhanced_path = '../data/predicted/10x-enhanced-varnet/'\n",
    "ref_path = '../../../data/brain-cancer/'"
   ]
  },
  {
   "cell_type": "code",
   "execution_count": 126,
   "id": "84893dc5",
   "metadata": {},
   "outputs": [],
   "source": [
    "#file ids with pathes\n",
    "initial_files = [initial_path + file[:-4] + '_predicted.nii' for file in test_files[:,1]]\n",
    "previous_files = [previous_path + 'elastic_' + file[0][:-4] + '_' + file[1][:-4] + '-1.nii' for file in test_files]\n",
    "previous_files_multi_visit = [previous_path + 'elastic_' + file[0][:-4] + '_' + file[1][:-4] + '-2.nii' for file in test_files]\n",
    "\n",
    "enhanced_files = [enhanced_path + file[:-4] + '_predicted-1.nii' for file in test_files[:,1]]\n",
    "enhanced_files_multi_visit = [enhanced_path + file[:-4] + '_predicted-2.nii' for file in test_files[:,1]]\n",
    "\n",
    "ref_files = [ref_path + file for file in test_files[:,1]]"
   ]
  },
  {
   "cell_type": "code",
   "execution_count": 127,
   "id": "7f1f6fa4",
   "metadata": {},
   "outputs": [
    {
     "name": "stderr",
     "output_type": "stream",
     "text": [
      "100%|██████████| 7/7 [01:30<00:00, 12.89s/it]\n"
     ]
    }
   ],
   "source": [
    "init_mets = []\n",
    "prev_mets = []\n",
    "prev1_mets = []\n",
    "enh_mets = []\n",
    "enh1_mets = []\n",
    "for ii in tqdm.tqdm(range(len(test_files))):\n",
    "    init = nib.load(initial_files[ii]).get_fdata()[:,:,20:-20]\n",
    "    prev = nib.load(previous_files[ii]).get_fdata()[:,:,20:-20]\n",
    "    prev1 = nib.load(previous_files_multi_visit[ii]).get_fdata()[:,:,20:-20]\n",
    "    enh = nib.load(enhanced_files[ii]).get_fdata()[:,:,20:-20]\n",
    "    enh1 = nib.load(enhanced_files_multi_visit[ii]).get_fdata()[:,:,20:-20]\n",
    "    ref = nib.load(ref_files[ii]).get_fdata()[:,:,20:-20]\n",
    "    \n",
    "    init = np.swapaxes(init,0,2)\n",
    "    prev = np.swapaxes(prev,0,2)\n",
    "    prev1 = np.swapaxes(prev1,0,2)\n",
    "    enh = np.swapaxes(enh,0,2)\n",
    "    enh1 = np.swapaxes(enh1,0,2)\n",
    "    ref = np.swapaxes(ref,0,2)\n",
    "    \n",
    "    init = init / np.abs(init).max()\n",
    "    prev = prev / np.abs(prev).max()\n",
    "    prev1 = prev1 / np.abs(prev1).max()\n",
    "    enh = enh / np.abs(enh).max()\n",
    "    enh1 = enh1 / np.abs(enh1).max()    \n",
    "    ref = ref / np.abs(ref).max()\n",
    "    \n",
    "    init_mets.append(metrics.metrics(init, ref))\n",
    "    prev_mets.append(metrics.metrics(prev, ref))\n",
    "    prev1_mets.append(metrics.metrics(prev1, ref))\n",
    "    enh_mets.append(metrics.metrics(enh, ref))\n",
    "    enh1_mets.append(metrics.metrics(enh1, ref))\n",
    "    "
   ]
  },
  {
   "cell_type": "code",
   "execution_count": 128,
   "id": "159c160f",
   "metadata": {},
   "outputs": [
    {
     "name": "stdout",
     "output_type": "stream",
     "text": [
      "(2, 837)\n"
     ]
    }
   ],
   "source": [
    "init_mets_cat = np.concatenate(init_mets, axis=1)\n",
    "\n",
    "prev_mets_cat = np.concatenate(prev_mets, axis=1)\n",
    "prev1_mets_cat = np.concatenate(prev1_mets, axis=1)\n",
    "\n",
    "enh_mets_cat = np.concatenate(enh_mets, axis=1)\n",
    "enh1_mets_cat = np.concatenate(enh1_mets, axis=1)\n",
    "\n",
    "print(enh_mets_cat.shape)"
   ]
  },
  {
   "cell_type": "code",
   "execution_count": 129,
   "id": "093b842f",
   "metadata": {},
   "outputs": [
    {
     "data": {
      "text/plain": [
       "array([ 0.94044587, 35.11952763])"
      ]
     },
     "execution_count": 129,
     "metadata": {},
     "output_type": "execute_result"
    }
   ],
   "source": [
    "init_mets_cat.mean(axis=1)"
   ]
  },
  {
   "cell_type": "code",
   "execution_count": 130,
   "id": "1e53eb6f",
   "metadata": {},
   "outputs": [
    {
     "data": {
      "text/plain": [
       "array([ 0.90715917, 29.99295238])"
      ]
     },
     "execution_count": 130,
     "metadata": {},
     "output_type": "execute_result"
    }
   ],
   "source": [
    "prev_mets_cat.mean(axis=1)"
   ]
  },
  {
   "cell_type": "code",
   "execution_count": 131,
   "id": "cccdbc69",
   "metadata": {},
   "outputs": [
    {
     "data": {
      "text/plain": [
       "array([ 0.90600273, 29.97241823])"
      ]
     },
     "execution_count": 131,
     "metadata": {},
     "output_type": "execute_result"
    }
   ],
   "source": [
    "prev1_mets_cat.mean(axis=1)"
   ]
  },
  {
   "cell_type": "code",
   "execution_count": 132,
   "id": "beba8196",
   "metadata": {},
   "outputs": [
    {
     "data": {
      "text/plain": [
       "array([ 0.95908106, 36.73442099])"
      ]
     },
     "execution_count": 132,
     "metadata": {},
     "output_type": "execute_result"
    }
   ],
   "source": [
    "enh_mets_cat.mean(axis=1)"
   ]
  },
  {
   "cell_type": "code",
   "execution_count": 133,
   "id": "6a3ac7a5",
   "metadata": {},
   "outputs": [
    {
     "data": {
      "text/plain": [
       "array([ 0.9544934 , 36.22094081])"
      ]
     },
     "execution_count": 133,
     "metadata": {},
     "output_type": "execute_result"
    }
   ],
   "source": [
    "enh1_mets_cat.mean(axis=1)"
   ]
  },
  {
   "cell_type": "code",
   "execution_count": 134,
   "id": "4b8d3de3",
   "metadata": {},
   "outputs": [],
   "source": [
    "labels = ['previous', 'multi-visit previous', 'single-visit', 'multi-visit generated from f/sampled prior', 'multi-visit generated from multi-visit prior'] "
   ]
  },
  {
   "cell_type": "code",
   "execution_count": 156,
   "id": "1e818da7",
   "metadata": {},
   "outputs": [],
   "source": [
    "mets = np.array([init_mets_cat.mean(axis=1), \n",
    "           prev_mets_cat.mean(axis=1), prev_mets_cat.mean(axis=1), \n",
    "           enh_mets_cat.mean(axis=1), enh1_mets_cat.mean(axis=1)])"
   ]
  },
  {
   "cell_type": "code",
   "execution_count": 157,
   "id": "39a362ac",
   "metadata": {},
   "outputs": [],
   "source": [
    "yerr = np.array([init_mets_cat.std(axis=1), \n",
    "           prev_mets_cat.std(axis=1), prev_mets_cat.std(axis=1), \n",
    "           enh_mets_cat.std(axis=1), enh1_mets_cat.std(axis=1)])"
   ]
  },
  {
   "cell_type": "code",
   "execution_count": 164,
   "id": "b93bcfad",
   "metadata": {},
   "outputs": [
    {
     "data": {
      "text/plain": [
       "array([[0.01940865, 1.75198364],\n",
       "       [0.03783537, 1.90759137],\n",
       "       [0.03783537, 1.90759137],\n",
       "       [0.01688033, 1.78243063],\n",
       "       [0.01709427, 1.71003677]])"
      ]
     },
     "execution_count": 164,
     "metadata": {},
     "output_type": "execute_result"
    }
   ],
   "source": [
    "yerr"
   ]
  },
  {
   "cell_type": "code",
   "execution_count": 158,
   "id": "11cd031e",
   "metadata": {},
   "outputs": [],
   "source": [
    "colors = sns.color_palette('colorblind',3)"
   ]
  },
  {
   "cell_type": "code",
   "execution_count": 163,
   "id": "71d9df7f",
   "metadata": {},
   "outputs": [],
   "source": [
    "ssim = mets[:,0]\n",
    "psnr = mets[:,1]"
   ]
  },
  {
   "cell_type": "code",
   "execution_count": 198,
   "id": "5a44a00f",
   "metadata": {},
   "outputs": [
    {
     "data": {
      "text/plain": [
       "[1, 2.8]"
      ]
     },
     "execution_count": 198,
     "metadata": {},
     "output_type": "execute_result"
    }
   ],
   "source": [
    "x[1::2]"
   ]
  },
  {
   "cell_type": "code",
   "execution_count": 210,
   "id": "026edfad",
   "metadata": {},
   "outputs": [
    {
     "data": {
      "image/png": "[encoded data removed]",
      "text/plain": [
       "<Figure size 864x432 with 1 Axes>"
      ]
     },
     "metadata": {},
     "output_type": "display_data"
    }
   ],
   "source": [
    "plt.figure(figsize=(12,6))\n",
    "x = [0, 1, 1.8, 2.8, 3.6]\n",
    "y = ssim\n",
    "\n",
    "#plt.bar([0, 1, 1.8, 2.8, 3.6], ssim, yerr=yerr[:,0],  \n",
    "#        error_kw=dict(ecolor='green', lw=2, capsize=5, capthick=2), \n",
    "#        color=[colors[0],colors[1], colors[2], colors[1], colors[2]], \n",
    "#        label=([0,1,2], ['VarNet', 'Reference', 'Reconstruction']))\n",
    "\n",
    "plt.bar(x[0], y[0], yerr=yerr[0,0], error_kw=dict(ecolor='green', lw=2, capsize=5, capthick=2), label='10x')\n",
    "plt.bar(x[1::2], y[1::2], yerr=yerr[1::2,0],  error_kw=dict(ecolor='green', lw=2, capsize=5, capthick=2), label='Reference')\n",
    "plt.bar(x[2::2], y[2::2], yerr=yerr[2::2,0],  error_kw=dict(ecolor='green', lw=2, capsize=5, capthick=2), label='Reconstruction')\n",
    "\n",
    "\n",
    "plt.ylabel('SSIM')\n",
    "plt.xticks([0,1.4, 3.2], \n",
    "           ['Single-visit Reconstruction',\n",
    "            'Previous Scan',  \n",
    "            'Multi-visit Reconstruction'], rotation=0)\n",
    "plt.legend()\n",
    "plt.show()\n",
    "plt.close()\n"
   ]
  },
  {
   "cell_type": "code",
   "execution_count": null,
   "id": "36b0c0fb",
   "metadata": {},
   "outputs": [],
   "source": []
  }
 ],
 "metadata": {
  "kernelspec": {
   "display_name": "Python 3",
   "language": "python",
   "name": "python3"
  },
  "language_info": {
   "codemirror_mode": {
    "name": "ipython",
    "version": 3
   },
   "file_extension": ".py",
   "mimetype": "text/x-python",
   "name": "python",
   "nbconvert_exporter": "python",
   "pygments_lexer": "ipython3",
   "version": "3.8.8"
  },
  "toc": {
   "base_numbering": 1,
   "nav_menu": {},
   "number_sections": true,
   "sideBar": true,
   "skip_h1_title": false,
   "title_cell": "Table of Contents",
   "title_sidebar": "Contents",
   "toc_cell": false,
   "toc_position": {},
   "toc_section_display": true,
   "toc_window_display": false
  },
  "varInspector": {
   "cols": {
    "lenName": 16,
    "lenType": 16,
    "lenVar": 40
   },
   "kernels_config": {
    "python": {
     "delete_cmd_postfix": "",
     "delete_cmd_prefix": "del ",
     "library": "var_list.py",
     "varRefreshCmd": "print(var_dic_list())"
    },
    "r": {
     "delete_cmd_postfix": ") ",
     "delete_cmd_prefix": "rm(",
     "library": "var_list.r",
     "varRefreshCmd": "cat(var_dic_list()) "
    }
   },
   "types_to_exclude": [
    "module",
    "function",
    "builtin_function_or_method",
    "instance",
    "_Feature"
   ],
   "window_display": false
  }
 },
 "nbformat": 4,
 "nbformat_minor": 5
}
